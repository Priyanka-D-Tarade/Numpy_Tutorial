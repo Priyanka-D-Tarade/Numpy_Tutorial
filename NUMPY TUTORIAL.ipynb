{
 "cells": [
  {
   "cell_type": "code",
   "execution_count": null,
   "id": "c6a0a3ec",
   "metadata": {},
   "outputs": [],
   "source": [
    "\"\"\"\n",
    "It is low level library written in C and FORTRAN.\n",
    "used for high level mathematical operations.\n",
    "\n",
    "it cleverly overcomes the problem of running slower algorithms on python\n",
    "by using multidimential arrays and functions that operate on arrays.\n",
    "\"\"\""
   ]
  },
  {
   "cell_type": "code",
   "execution_count": null,
   "id": "26ecdbc7",
   "metadata": {},
   "outputs": [],
   "source": []
  },
  {
   "cell_type": "markdown",
   "id": "4246a89f",
   "metadata": {},
   "source": [
    "# Applications of NUMPY"
   ]
  },
  {
   "cell_type": "code",
   "execution_count": null,
   "id": "b2ef7d43",
   "metadata": {},
   "outputs": [],
   "source": [
    "\"\"\"\n",
    "A Powerful N-dimential array object\n",
    "\n",
    "sophisticated (broadcasting)functions\n",
    "\n",
    "tools for integraing C/C++ and Fortran code\n",
    "\n",
    "Useful linear algebra,fourier transform and random number capabilities\n",
    "\n",
    "\"\"\""
   ]
  },
  {
   "cell_type": "markdown",
   "id": "ecc9b10e",
   "metadata": {},
   "source": [
    "# Features"
   ]
  },
  {
   "cell_type": "code",
   "execution_count": 1,
   "id": "097da6b9",
   "metadata": {},
   "outputs": [
    {
     "data": {
      "text/plain": [
       "'\\nHomogeneous\\n\\nonly be number(Number,Float,Complex)\\n\\nFixed item size.'"
      ]
     },
     "execution_count": 1,
     "metadata": {},
     "output_type": "execute_result"
    }
   ],
   "source": [
    "\"\"\"\n",
    "Homogeneous\n",
    "\n",
    "only be number(Number,Float,Complex)\n",
    "\n",
    "Fixed item size.\n",
    "\n",
    " Actually python can hold strings but we never use numpy that way for strings\"\"\""
   ]
  },
  {
   "cell_type": "markdown",
   "id": "2cd1b843",
   "metadata": {},
   "source": [
    "# How to create Numpy arrays"
   ]
  },
  {
   "cell_type": "code",
   "execution_count": null,
   "id": "7b65d7fc",
   "metadata": {},
   "outputs": [],
   "source": [
    "#6 ways\n",
    "\"\"\"\n",
    "Using np.array() #1D or 2D\n",
    "Using np.zeroes/ones/empty/random()\n",
    "Using np.arange()\n",
    "Using np.linspace()\n",
    "Using copy()\n",
    "Using Identity()\n",
    "\n",
    "\"\"\""
   ]
  },
  {
   "cell_type": "code",
   "execution_count": null,
   "id": "a0dcdafa",
   "metadata": {},
   "outputs": [],
   "source": [
    "#Creating 1D array or N-d arrays\n",
    "import numpy as np    #Add external library in python code"
   ]
  },
  {
   "cell_type": "code",
   "execution_count": null,
   "id": "b2ee9e52",
   "metadata": {},
   "outputs": [],
   "source": [
    "arr=np.array([1,2,3,4,5]) #1d array liik like vector or list\n",
    "arr"
   ]
  },
  {
   "cell_type": "code",
   "execution_count": null,
   "id": "4aded484",
   "metadata": {},
   "outputs": [],
   "source": [
    "type(arr)   #numpy.ndarray"
   ]
  },
  {
   "cell_type": "code",
   "execution_count": null,
   "id": "f63101bc",
   "metadata": {},
   "outputs": [],
   "source": []
  },
  {
   "cell_type": "code",
   "execution_count": null,
   "id": "2dede65c",
   "metadata": {},
   "outputs": [],
   "source": [
    "arr1=np.array([[1,2,3],[4,5,6]])   #2d array look like metrics\n",
    "arr1"
   ]
  },
  {
   "cell_type": "code",
   "execution_count": null,
   "id": "56c7fd38",
   "metadata": {},
   "outputs": [],
   "source": [
    "arr2=np.zeros((3,3))\n",
    "arr2"
   ]
  },
  {
   "cell_type": "code",
   "execution_count": null,
   "id": "92d04017",
   "metadata": {},
   "outputs": [],
   "source": [
    "arr3=np.ones((3,3), dtype=int)  #by default dtype=float=covers a lot mathematical functions\n",
    "arr3"
   ]
  },
  {
   "cell_type": "code",
   "execution_count": null,
   "id": "7d17fcb8",
   "metadata": {},
   "outputs": [],
   "source": [
    "arr4=np.identity(4)   \n",
    "arr4"
   ]
  },
  {
   "cell_type": "code",
   "execution_count": null,
   "id": "769dca75",
   "metadata": {},
   "outputs": [],
   "source": [
    "arr5=np.arange(9)\n",
    "arr5"
   ]
  },
  {
   "cell_type": "code",
   "execution_count": null,
   "id": "e8819d1c",
   "metadata": {},
   "outputs": [],
   "source": [
    "arr6=np.arange(2,26,3)\n",
    "arr6"
   ]
  },
  {
   "cell_type": "code",
   "execution_count": null,
   "id": "7048a964",
   "metadata": {},
   "outputs": [],
   "source": [
    "arr7=np.linspace(5,20,6)  #(start,stop,how many numbers_count)linspace==linearly spaced\n",
    "arr7"
   ]
  },
  {
   "cell_type": "code",
   "execution_count": null,
   "id": "0358cf86",
   "metadata": {},
   "outputs": [],
   "source": [
    "arr8=arr5.copy()\n",
    "arr8"
   ]
  },
  {
   "cell_type": "markdown",
   "id": "20e3ee40",
   "metadata": {},
   "source": [
    "# Some important properties and Attributes"
   ]
  },
  {
   "cell_type": "code",
   "execution_count": null,
   "id": "c43e4038",
   "metadata": {},
   "outputs": [],
   "source": [
    "\"\"\"\n",
    "attributes=\n",
    "           shape\n",
    "           ndim\n",
    "           size\n",
    "           itemsize\n",
    "           dtype\n",
    "           astype\n",
    "In OOPS,it is treated as data member in class.\n",
    "           \"\"\""
   ]
  },
  {
   "cell_type": "code",
   "execution_count": null,
   "id": "763e72e0",
   "metadata": {},
   "outputs": [],
   "source": [
    "import numpy as np"
   ]
  },
  {
   "cell_type": "code",
   "execution_count": null,
   "id": "9744dfd2",
   "metadata": {},
   "outputs": [],
   "source": [
    "arr1=np.array([[1, 2, 3],[4, 5, 6]])\n",
    "arr1.astype(\"str\")"
   ]
  },
  {
   "cell_type": "code",
   "execution_count": null,
   "id": "0f211158",
   "metadata": {},
   "outputs": [],
   "source": [
    "arr1.dtype"
   ]
  },
  {
   "cell_type": "code",
   "execution_count": null,
   "id": "be1ccaa3",
   "metadata": {},
   "outputs": [],
   "source": [
    "arr1.itemsize"
   ]
  },
  {
   "cell_type": "code",
   "execution_count": null,
   "id": "241d2667",
   "metadata": {},
   "outputs": [],
   "source": [
    "arr2"
   ]
  },
  {
   "cell_type": "code",
   "execution_count": null,
   "id": "d55bce0f",
   "metadata": {},
   "outputs": [],
   "source": [
    "arr3"
   ]
  },
  {
   "cell_type": "code",
   "execution_count": null,
   "id": "6b8a5f2c",
   "metadata": {
    "scrolled": false
   },
   "outputs": [],
   "source": [
    "arr4"
   ]
  },
  {
   "cell_type": "code",
   "execution_count": null,
   "id": "4a3d15c3",
   "metadata": {},
   "outputs": [],
   "source": [
    "arr8"
   ]
  },
  {
   "cell_type": "code",
   "execution_count": null,
   "id": "e14f1071",
   "metadata": {},
   "outputs": [],
   "source": [
    "arr7"
   ]
  },
  {
   "cell_type": "markdown",
   "id": "1cfaff02",
   "metadata": {},
   "source": [
    "# shape"
   ]
  },
  {
   "cell_type": "code",
   "execution_count": null,
   "id": "26036b76",
   "metadata": {},
   "outputs": [],
   "source": [
    " #(no. of rows,no.of columns,no. of dimensions)"
   ]
  },
  {
   "cell_type": "code",
   "execution_count": null,
   "id": "9677811f",
   "metadata": {
    "scrolled": true
   },
   "outputs": [],
   "source": [
    "arr1.shape  #(no. of rows,no.of columns,no. of dimensions)"
   ]
  },
  {
   "cell_type": "code",
   "execution_count": null,
   "id": "f93faa08",
   "metadata": {},
   "outputs": [],
   "source": [
    "arr3.shape"
   ]
  },
  {
   "cell_type": "code",
   "execution_count": null,
   "id": "ce8a0974",
   "metadata": {},
   "outputs": [],
   "source": [
    "arr.shape  #in 1D array python show output like this.(no. of columns,)"
   ]
  },
  {
   "cell_type": "code",
   "execution_count": null,
   "id": "3c9888e4",
   "metadata": {},
   "outputs": [],
   "source": [
    "arr9=np.array([[[1,2],[3,4]],[[5,6],[7,8]]])"
   ]
  },
  {
   "cell_type": "code",
   "execution_count": null,
   "id": "e8cb614b",
   "metadata": {},
   "outputs": [],
   "source": [
    "arr9"
   ]
  },
  {
   "cell_type": "code",
   "execution_count": null,
   "id": "e44a7134",
   "metadata": {},
   "outputs": [],
   "source": [
    "arr9.shape"
   ]
  },
  {
   "cell_type": "markdown",
   "id": "522a5b1f",
   "metadata": {},
   "source": [
    "# ndim"
   ]
  },
  {
   "cell_type": "code",
   "execution_count": null,
   "id": "51a72eca",
   "metadata": {},
   "outputs": [],
   "source": [
    "#no of dimensions"
   ]
  },
  {
   "cell_type": "code",
   "execution_count": null,
   "id": "65bfa415",
   "metadata": {},
   "outputs": [],
   "source": [
    "arr9.ndim"
   ]
  },
  {
   "cell_type": "code",
   "execution_count": null,
   "id": "34667567",
   "metadata": {},
   "outputs": [],
   "source": [
    "arr.ndim"
   ]
  },
  {
   "cell_type": "code",
   "execution_count": null,
   "id": "8c56e6af",
   "metadata": {},
   "outputs": [],
   "source": [
    "arr3.ndim"
   ]
  },
  {
   "cell_type": "code",
   "execution_count": null,
   "id": "9b221a6b",
   "metadata": {},
   "outputs": [],
   "source": [
    "arr4.ndim "
   ]
  },
  {
   "cell_type": "markdown",
   "id": "c8cec124",
   "metadata": {},
   "source": [
    "# size"
   ]
  },
  {
   "cell_type": "code",
   "execution_count": null,
   "id": "ba493e79",
   "metadata": {},
   "outputs": [],
   "source": [
    "arr.size  #no of items in array."
   ]
  },
  {
   "cell_type": "code",
   "execution_count": null,
   "id": "57064ff2",
   "metadata": {},
   "outputs": [],
   "source": [
    "arr1"
   ]
  },
  {
   "cell_type": "code",
   "execution_count": null,
   "id": "ec1a33cf",
   "metadata": {},
   "outputs": [],
   "source": [
    "arr2"
   ]
  },
  {
   "cell_type": "code",
   "execution_count": null,
   "id": "7dead2ae",
   "metadata": {},
   "outputs": [],
   "source": [
    "arr3"
   ]
  },
  {
   "cell_type": "code",
   "execution_count": null,
   "id": "70c1397c",
   "metadata": {},
   "outputs": [],
   "source": [
    "arr4.size"
   ]
  },
  {
   "cell_type": "code",
   "execution_count": null,
   "id": "e82c8d05",
   "metadata": {},
   "outputs": [],
   "source": [
    "arr5.size"
   ]
  },
  {
   "cell_type": "code",
   "execution_count": null,
   "id": "1eb69da6",
   "metadata": {},
   "outputs": [],
   "source": [
    "arr6.size"
   ]
  },
  {
   "cell_type": "code",
   "execution_count": null,
   "id": "5e04c679",
   "metadata": {},
   "outputs": [],
   "source": [
    "arr7.size"
   ]
  },
  {
   "cell_type": "code",
   "execution_count": null,
   "id": "0058a8be",
   "metadata": {},
   "outputs": [],
   "source": [
    "arr8.size"
   ]
  },
  {
   "cell_type": "code",
   "execution_count": null,
   "id": "8d4a93c8",
   "metadata": {},
   "outputs": [],
   "source": [
    "arr9.size"
   ]
  },
  {
   "cell_type": "code",
   "execution_count": null,
   "id": "d0b076ba",
   "metadata": {},
   "outputs": [],
   "source": []
  },
  {
   "cell_type": "markdown",
   "id": "ef27fc34",
   "metadata": {},
   "source": [
    "# itemsize"
   ]
  },
  {
   "cell_type": "code",
   "execution_count": null,
   "id": "1703be81",
   "metadata": {},
   "outputs": [],
   "source": [
    "arr2.itemsize #float items=8 bytes"
   ]
  },
  {
   "cell_type": "code",
   "execution_count": null,
   "id": "dc393879",
   "metadata": {},
   "outputs": [],
   "source": [
    "arr2.itemsize "
   ]
  },
  {
   "cell_type": "code",
   "execution_count": null,
   "id": "c0db1ec3",
   "metadata": {},
   "outputs": [],
   "source": [
    "arr3            #2D array"
   ]
  },
  {
   "cell_type": "code",
   "execution_count": null,
   "id": "1952dc40",
   "metadata": {},
   "outputs": [],
   "source": [
    "arr3.itemsize"
   ]
  },
  {
   "cell_type": "code",
   "execution_count": null,
   "id": "35fbec27",
   "metadata": {},
   "outputs": [],
   "source": [
    "arr5.itemsize"
   ]
  },
  {
   "cell_type": "code",
   "execution_count": null,
   "id": "df5da4a7",
   "metadata": {},
   "outputs": [],
   "source": [
    "arr6.itemsize"
   ]
  },
  {
   "cell_type": "code",
   "execution_count": null,
   "id": "9fcc0cb2",
   "metadata": {},
   "outputs": [],
   "source": [
    "arr7 #float data items"
   ]
  },
  {
   "cell_type": "code",
   "execution_count": null,
   "id": "ded54a9c",
   "metadata": {},
   "outputs": [],
   "source": [
    "arr7.itemsize"
   ]
  },
  {
   "cell_type": "code",
   "execution_count": null,
   "id": "c14a005b",
   "metadata": {
    "scrolled": true
   },
   "outputs": [],
   "source": [
    "arr8.itemsize"
   ]
  },
  {
   "cell_type": "code",
   "execution_count": null,
   "id": "9a826616",
   "metadata": {},
   "outputs": [],
   "source": [
    "arr9.itemsize #int items"
   ]
  },
  {
   "cell_type": "markdown",
   "id": "12000155",
   "metadata": {},
   "source": [
    "# dtype"
   ]
  },
  {
   "cell_type": "code",
   "execution_count": null,
   "id": "5c1810b9",
   "metadata": {},
   "outputs": [],
   "source": [
    "arr.dtype"
   ]
  },
  {
   "cell_type": "code",
   "execution_count": null,
   "id": "58a6a8da",
   "metadata": {},
   "outputs": [],
   "source": [
    "arr1.dtype"
   ]
  },
  {
   "cell_type": "code",
   "execution_count": null,
   "id": "b0194133",
   "metadata": {},
   "outputs": [],
   "source": [
    "arr9.dtype"
   ]
  },
  {
   "cell_type": "markdown",
   "id": "3482a5e6",
   "metadata": {},
   "source": [
    "# astype"
   ]
  },
  {
   "cell_type": "code",
   "execution_count": null,
   "id": "957d8a45",
   "metadata": {},
   "outputs": [],
   "source": [
    "arr.astype(\"str\")"
   ]
  },
  {
   "cell_type": "code",
   "execution_count": null,
   "id": "f3a25a2d",
   "metadata": {},
   "outputs": [],
   "source": [
    "arr9.astype"
   ]
  },
  {
   "cell_type": "code",
   "execution_count": null,
   "id": "01de8a2a",
   "metadata": {},
   "outputs": [],
   "source": [
    "arr"
   ]
  },
  {
   "cell_type": "code",
   "execution_count": null,
   "id": "bb518b46",
   "metadata": {},
   "outputs": [],
   "source": [
    "arr.astype(\"bool\")"
   ]
  },
  {
   "cell_type": "code",
   "execution_count": null,
   "id": "b2118000",
   "metadata": {},
   "outputs": [],
   "source": [
    "arr5.astype('str')"
   ]
  },
  {
   "cell_type": "code",
   "execution_count": null,
   "id": "0cc8f333",
   "metadata": {},
   "outputs": [],
   "source": [
    "arr8.astype('complex')"
   ]
  },
  {
   "cell_type": "code",
   "execution_count": null,
   "id": "dbabfb80",
   "metadata": {},
   "outputs": [],
   "source": [
    "#with the help of these functions, u can change datatype directly."
   ]
  },
  {
   "cell_type": "code",
   "execution_count": null,
   "id": "8f78a905",
   "metadata": {},
   "outputs": [],
   "source": []
  },
  {
   "cell_type": "markdown",
   "id": "a40ef19e",
   "metadata": {},
   "source": [
    "# list vs Numpy array"
   ]
  },
  {
   "cell_type": "code",
   "execution_count": null,
   "id": "78243830",
   "metadata": {},
   "outputs": [],
   "source": [
    "\"\"\"\n",
    "numpy array= faster execution \n",
    "             Convenient\n",
    "             requires less memory\n",
    "\"\"\""
   ]
  },
  {
   "cell_type": "code",
   "execution_count": null,
   "id": "c7dcb6f7",
   "metadata": {},
   "outputs": [],
   "source": [
    "list1=range(100)"
   ]
  },
  {
   "cell_type": "code",
   "execution_count": null,
   "id": "82deb811",
   "metadata": {},
   "outputs": [],
   "source": [
    "arr11=np.arange(100)"
   ]
  },
  {
   "cell_type": "code",
   "execution_count": null,
   "id": "8f8c4a94",
   "metadata": {},
   "outputs": [],
   "source": [
    "import sys"
   ]
  },
  {
   "cell_type": "code",
   "execution_count": null,
   "id": "af2ca730",
   "metadata": {},
   "outputs": [],
   "source": [
    "m=(sys.getsizeof(87)*len(list1))"
   ]
  },
  {
   "cell_type": "code",
   "execution_count": null,
   "id": "0f17d0c3",
   "metadata": {},
   "outputs": [],
   "source": [
    "m"
   ]
  },
  {
   "cell_type": "code",
   "execution_count": null,
   "id": "28458c7a",
   "metadata": {},
   "outputs": [],
   "source": [
    "n=arr11.itemsize*arr11.size"
   ]
  },
  {
   "cell_type": "code",
   "execution_count": null,
   "id": "fb2512b1",
   "metadata": {},
   "outputs": [],
   "source": [
    "n"
   ]
  },
  {
   "cell_type": "code",
   "execution_count": null,
   "id": "32c8af9a",
   "metadata": {},
   "outputs": [],
   "source": [
    "m>n   #numpy very fast"
   ]
  },
  {
   "cell_type": "code",
   "execution_count": null,
   "id": "498b91e6",
   "metadata": {},
   "outputs": [],
   "source": [
    "import time"
   ]
  },
  {
   "cell_type": "code",
   "execution_count": null,
   "id": "39402e03",
   "metadata": {},
   "outputs": [],
   "source": [
    "x=range(10000000)\n",
    "y=(10000000,20000000)\n",
    "start_time=time.time()\n",
    "c=[(x+y) for x,y in zip(x,y)]"
   ]
  },
  {
   "cell_type": "code",
   "execution_count": null,
   "id": "c64518e7",
   "metadata": {},
   "outputs": [],
   "source": [
    "time.time()-start_time"
   ]
  },
  {
   "cell_type": "code",
   "execution_count": null,
   "id": "7f16ec3e",
   "metadata": {},
   "outputs": [],
   "source": [
    "a=np.arange(10000000)\n",
    "b=np.arange(10000000,20000000)\n",
    "start_time=time.time()\n",
    "c=a+b\n",
    "time.time()-start_time"
   ]
  },
  {
   "cell_type": "markdown",
   "id": "8c1305a5",
   "metadata": {},
   "source": [
    "# Indexing ,Slicing and Iteration"
   ]
  },
  {
   "cell_type": "code",
   "execution_count": null,
   "id": "6a0923eb",
   "metadata": {},
   "outputs": [],
   "source": [
    "arr12=np.arange(24)"
   ]
  },
  {
   "cell_type": "code",
   "execution_count": null,
   "id": "ad19a807",
   "metadata": {},
   "outputs": [],
   "source": [
    "arr12"
   ]
  },
  {
   "cell_type": "code",
   "execution_count": null,
   "id": "9d6b733d",
   "metadata": {},
   "outputs": [],
   "source": [
    "arr13=np.arange(24).reshape(4,6)"
   ]
  },
  {
   "cell_type": "code",
   "execution_count": null,
   "id": "78a1e362",
   "metadata": {},
   "outputs": [],
   "source": [
    "arr13"
   ]
  },
  {
   "cell_type": "code",
   "execution_count": null,
   "id": "f8757f55",
   "metadata": {},
   "outputs": [],
   "source": [
    "arr14=arr13.reshape(8,3)"
   ]
  },
  {
   "cell_type": "code",
   "execution_count": null,
   "id": "99847965",
   "metadata": {},
   "outputs": [],
   "source": [
    "arr14"
   ]
  },
  {
   "cell_type": "code",
   "execution_count": null,
   "id": "7347f036",
   "metadata": {},
   "outputs": [],
   "source": [
    "arr15=arr14.reshape(12,2)"
   ]
  },
  {
   "cell_type": "code",
   "execution_count": null,
   "id": "3e8e61cf",
   "metadata": {},
   "outputs": [],
   "source": [
    "arr15"
   ]
  },
  {
   "cell_type": "code",
   "execution_count": null,
   "id": "84987197",
   "metadata": {},
   "outputs": [],
   "source": [
    "arr14[0]"
   ]
  },
  {
   "cell_type": "code",
   "execution_count": null,
   "id": "bc8fc750",
   "metadata": {},
   "outputs": [],
   "source": [
    "arr=arr12"
   ]
  },
  {
   "cell_type": "code",
   "execution_count": null,
   "id": "2a487b21",
   "metadata": {},
   "outputs": [],
   "source": [
    "#indexing"
   ]
  },
  {
   "cell_type": "code",
   "execution_count": null,
   "id": "ba07cf89",
   "metadata": {},
   "outputs": [],
   "source": [
    "arr[0]"
   ]
  },
  {
   "cell_type": "code",
   "execution_count": null,
   "id": "92f084fe",
   "metadata": {},
   "outputs": [],
   "source": [
    "arr[-1]"
   ]
  },
  {
   "cell_type": "code",
   "execution_count": null,
   "id": "4c588f19",
   "metadata": {},
   "outputs": [],
   "source": [
    "arr13[2]"
   ]
  },
  {
   "cell_type": "code",
   "execution_count": null,
   "id": "0aa64909",
   "metadata": {},
   "outputs": [],
   "source": [
    "#slicing"
   ]
  },
  {
   "cell_type": "code",
   "execution_count": null,
   "id": "fc98067c",
   "metadata": {},
   "outputs": [],
   "source": [
    "arr13[:,2]"
   ]
  },
  {
   "cell_type": "code",
   "execution_count": null,
   "id": "fc03b066",
   "metadata": {},
   "outputs": [],
   "source": [
    "arr13"
   ]
  },
  {
   "cell_type": "code",
   "execution_count": null,
   "id": "19c0a7ab",
   "metadata": {},
   "outputs": [],
   "source": [
    "arr13[:,5]"
   ]
  },
  {
   "cell_type": "code",
   "execution_count": null,
   "id": "66a8b810",
   "metadata": {},
   "outputs": [],
   "source": [
    "arr13[1:3,3:5]"
   ]
  },
  {
   "cell_type": "code",
   "execution_count": null,
   "id": "52aa19c9",
   "metadata": {},
   "outputs": [],
   "source": [
    "arr13[2:,4:]"
   ]
  },
  {
   "cell_type": "code",
   "execution_count": null,
   "id": "513d847f",
   "metadata": {},
   "outputs": [],
   "source": [
    "#iteration"
   ]
  },
  {
   "cell_type": "code",
   "execution_count": null,
   "id": "509c0738",
   "metadata": {},
   "outputs": [],
   "source": [
    "\"\"\"\n",
    "Communication is the key to the evoluation\"\"\""
   ]
  },
  {
   "cell_type": "code",
   "execution_count": null,
   "id": "bf635c2f",
   "metadata": {},
   "outputs": [],
   "source": [
    "\"\"\"\n",
    "maintain focus=notification is your distraction\n",
    "\n",
    "\"\"\""
   ]
  },
  {
   "cell_type": "code",
   "execution_count": null,
   "id": "cc1e1813",
   "metadata": {},
   "outputs": [],
   "source": [
    "arr13\n"
   ]
  },
  {
   "cell_type": "code",
   "execution_count": null,
   "id": "be94a52d",
   "metadata": {},
   "outputs": [],
   "source": [
    "for i in arr13:\n",
    "    print(i)"
   ]
  },
  {
   "cell_type": "code",
   "execution_count": null,
   "id": "26e19581",
   "metadata": {},
   "outputs": [],
   "source": [
    "for i in np.nditer(arr13):\n",
    "    print(i)"
   ]
  },
  {
   "cell_type": "markdown",
   "id": "3c9d87a2",
   "metadata": {},
   "source": [
    "# Numpy operations"
   ]
  },
  {
   "cell_type": "code",
   "execution_count": null,
   "id": "248b8b18",
   "metadata": {},
   "outputs": [],
   "source": [
    "arr1=np.arange(9)"
   ]
  },
  {
   "cell_type": "code",
   "execution_count": null,
   "id": "068e3c69",
   "metadata": {},
   "outputs": [],
   "source": [
    "arr2=np.arange(5,14)"
   ]
  },
  {
   "cell_type": "code",
   "execution_count": null,
   "id": "34f5d889",
   "metadata": {},
   "outputs": [],
   "source": [
    "arr1"
   ]
  },
  {
   "cell_type": "code",
   "execution_count": null,
   "id": "e769091e",
   "metadata": {},
   "outputs": [],
   "source": [
    "arr2"
   ]
  },
  {
   "cell_type": "code",
   "execution_count": null,
   "id": "e3dd4f2a",
   "metadata": {},
   "outputs": [],
   "source": [
    "arr1-arr2"
   ]
  },
  {
   "cell_type": "code",
   "execution_count": null,
   "id": "f5190f3a",
   "metadata": {},
   "outputs": [],
   "source": [
    "arr1+arr2"
   ]
  },
  {
   "cell_type": "code",
   "execution_count": null,
   "id": "70d3acaf",
   "metadata": {},
   "outputs": [],
   "source": [
    "arr1*arr2"
   ]
  },
  {
   "cell_type": "code",
   "execution_count": null,
   "id": "650f3e40",
   "metadata": {},
   "outputs": [],
   "source": [
    "arr1/arr2"
   ]
  },
  {
   "cell_type": "code",
   "execution_count": null,
   "id": "ea315e3e",
   "metadata": {},
   "outputs": [],
   "source": [
    "arr1*4"
   ]
  },
  {
   "cell_type": "code",
   "execution_count": null,
   "id": "85bc8f1a",
   "metadata": {},
   "outputs": [],
   "source": [
    "arr1//arr2"
   ]
  },
  {
   "cell_type": "code",
   "execution_count": null,
   "id": "59689cb1",
   "metadata": {},
   "outputs": [],
   "source": [
    "arr1%arr2"
   ]
  },
  {
   "cell_type": "code",
   "execution_count": null,
   "id": "966ceb68",
   "metadata": {},
   "outputs": [],
   "source": [
    "arr1**arr2"
   ]
  },
  {
   "cell_type": "code",
   "execution_count": null,
   "id": "04254715",
   "metadata": {},
   "outputs": [],
   "source": [
    "arr1>4"
   ]
  },
  {
   "cell_type": "code",
   "execution_count": null,
   "id": "eab908ff",
   "metadata": {},
   "outputs": [],
   "source": [
    "arr2>7"
   ]
  },
  {
   "cell_type": "code",
   "execution_count": null,
   "id": "2d59b6d4",
   "metadata": {},
   "outputs": [],
   "source": [
    "arr2<7"
   ]
  },
  {
   "cell_type": "code",
   "execution_count": null,
   "id": "c5151356",
   "metadata": {},
   "outputs": [],
   "source": [
    "#relational op\n",
    "arr1>arr2"
   ]
  },
  {
   "cell_type": "code",
   "execution_count": null,
   "id": "a916e0e3",
   "metadata": {},
   "outputs": [],
   "source": [
    "arr1<arr2"
   ]
  },
  {
   "cell_type": "code",
   "execution_count": null,
   "id": "53532386",
   "metadata": {},
   "outputs": [],
   "source": [
    "arr1==arr2"
   ]
  },
  {
   "cell_type": "code",
   "execution_count": null,
   "id": "e50587de",
   "metadata": {},
   "outputs": [],
   "source": [
    "arr1!=arr2"
   ]
  },
  {
   "cell_type": "code",
   "execution_count": null,
   "id": "85792a98",
   "metadata": {},
   "outputs": [],
   "source": [
    "#membership\n",
    "arr1 in arr2"
   ]
  },
  {
   "cell_type": "code",
   "execution_count": null,
   "id": "9474a2d3",
   "metadata": {},
   "outputs": [],
   "source": [
    "arr2 in arr1"
   ]
  },
  {
   "cell_type": "code",
   "execution_count": null,
   "id": "d27aee40",
   "metadata": {},
   "outputs": [],
   "source": [
    "arr2 not in arr1"
   ]
  },
  {
   "cell_type": "code",
   "execution_count": null,
   "id": "5f3a4a61",
   "metadata": {},
   "outputs": [],
   "source": [
    "arr1 not in arr2"
   ]
  },
  {
   "cell_type": "code",
   "execution_count": null,
   "id": "3be83f05",
   "metadata": {},
   "outputs": [],
   "source": [
    "4 in arr1"
   ]
  },
  {
   "cell_type": "code",
   "execution_count": null,
   "id": "27bee0df",
   "metadata": {},
   "outputs": [],
   "source": [
    "9 in arr1"
   ]
  },
  {
   "cell_type": "code",
   "execution_count": null,
   "id": "fcfa5d10",
   "metadata": {},
   "outputs": [],
   "source": [
    "7 in arr2"
   ]
  },
  {
   "cell_type": "code",
   "execution_count": null,
   "id": "cb9e1b00",
   "metadata": {},
   "outputs": [],
   "source": [
    "12 not in arr2"
   ]
  },
  {
   "cell_type": "code",
   "execution_count": null,
   "id": "be8b5a8f",
   "metadata": {},
   "outputs": [],
   "source": [
    "#identity\n",
    "arr1 is arr2"
   ]
  },
  {
   "cell_type": "code",
   "execution_count": null,
   "id": "0156cdd4",
   "metadata": {},
   "outputs": [],
   "source": [
    "arr1.dot(arr2)  #because both r series"
   ]
  },
  {
   "cell_type": "code",
   "execution_count": null,
   "id": "c1866736",
   "metadata": {},
   "outputs": [],
   "source": [
    "arr13"
   ]
  },
  {
   "cell_type": "code",
   "execution_count": null,
   "id": "700827c1",
   "metadata": {},
   "outputs": [],
   "source": [
    "arr14"
   ]
  },
  {
   "cell_type": "code",
   "execution_count": null,
   "id": "6f2204ad",
   "metadata": {},
   "outputs": [],
   "source": [
    "arr20=np.arange(6).reshape(2,3)"
   ]
  },
  {
   "cell_type": "code",
   "execution_count": null,
   "id": "f1df1824",
   "metadata": {},
   "outputs": [],
   "source": [
    "arr20"
   ]
  },
  {
   "cell_type": "code",
   "execution_count": null,
   "id": "95a8a3f4",
   "metadata": {},
   "outputs": [],
   "source": [
    "arr21=np.arange(6,12).reshape(3,2)"
   ]
  },
  {
   "cell_type": "code",
   "execution_count": null,
   "id": "622c3046",
   "metadata": {},
   "outputs": [],
   "source": [
    "arr21"
   ]
  },
  {
   "cell_type": "code",
   "execution_count": null,
   "id": "84137a6c",
   "metadata": {},
   "outputs": [],
   "source": [
    "arr20.dot(arr21)"
   ]
  },
  {
   "cell_type": "code",
   "execution_count": null,
   "id": "7461c856",
   "metadata": {},
   "outputs": [],
   "source": [
    "arr20.max()"
   ]
  },
  {
   "cell_type": "code",
   "execution_count": null,
   "id": "1170276a",
   "metadata": {},
   "outputs": [],
   "source": [
    "arr21.max(axis=0)"
   ]
  },
  {
   "cell_type": "code",
   "execution_count": null,
   "id": "608b223f",
   "metadata": {},
   "outputs": [],
   "source": [
    "arr20.sum(axis=1)\n"
   ]
  },
  {
   "cell_type": "code",
   "execution_count": null,
   "id": "80e4e260",
   "metadata": {},
   "outputs": [],
   "source": [
    "arr20.sum(axis=0)\n"
   ]
  },
  {
   "cell_type": "code",
   "execution_count": null,
   "id": "32cc5289",
   "metadata": {},
   "outputs": [],
   "source": [
    "arr20.sum()\n"
   ]
  },
  {
   "cell_type": "code",
   "execution_count": null,
   "id": "ffb84c65",
   "metadata": {},
   "outputs": [],
   "source": [
    "arr.mean()\n"
   ]
  },
  {
   "cell_type": "code",
   "execution_count": null,
   "id": "d6dca315",
   "metadata": {},
   "outputs": [],
   "source": [
    "np.median(arr20)"
   ]
  },
  {
   "cell_type": "code",
   "execution_count": null,
   "id": "0716311a",
   "metadata": {},
   "outputs": [],
   "source": [
    "np.mean(arr)  #not static"
   ]
  },
  {
   "cell_type": "code",
   "execution_count": null,
   "id": "3664260c",
   "metadata": {},
   "outputs": [],
   "source": [
    "arr.std()   #static"
   ]
  },
  {
   "cell_type": "code",
   "execution_count": null,
   "id": "745a30a4",
   "metadata": {},
   "outputs": [],
   "source": [
    "a=np.sin(arr20)\n"
   ]
  },
  {
   "cell_type": "code",
   "execution_count": null,
   "id": "dcb4b026",
   "metadata": {},
   "outputs": [],
   "source": [
    "b=np.cos(arr20)"
   ]
  },
  {
   "cell_type": "code",
   "execution_count": null,
   "id": "b34ddcad",
   "metadata": {},
   "outputs": [],
   "source": [
    "np.tan(arr21)"
   ]
  },
  {
   "cell_type": "code",
   "execution_count": null,
   "id": "3c03ee97",
   "metadata": {},
   "outputs": [],
   "source": [
    "np.exp(arr)"
   ]
  },
  {
   "cell_type": "markdown",
   "id": "218fd7e7",
   "metadata": {},
   "source": [
    "# Reshaping NUMPY arrays "
   ]
  },
  {
   "cell_type": "code",
   "execution_count": null,
   "id": "a5ad2088",
   "metadata": {},
   "outputs": [],
   "source": [
    "\"\"\"\n",
    "ravel()== multidimensional to series or 1 D\n",
    "reshape()\n",
    "transpose()\n",
    "stacking=hstack(),vstack()\n",
    "splitting=hsplit(),vsplit()\n",
    "\"\"\""
   ]
  },
  {
   "cell_type": "code",
   "execution_count": null,
   "id": "1bcada89",
   "metadata": {},
   "outputs": [],
   "source": [
    "arr21  #(2,3)"
   ]
  },
  {
   "cell_type": "code",
   "execution_count": null,
   "id": "e66c9d2a",
   "metadata": {},
   "outputs": [],
   "source": [
    "c=arr21.transpose()  #(3,2)"
   ]
  },
  {
   "cell_type": "code",
   "execution_count": null,
   "id": "901128e4",
   "metadata": {},
   "outputs": [],
   "source": [
    "#Stacking=hstack(),vstack()"
   ]
  },
  {
   "cell_type": "code",
   "execution_count": null,
   "id": "e797679a",
   "metadata": {},
   "outputs": [],
   "source": [
    "arr21"
   ]
  },
  {
   "cell_type": "code",
   "execution_count": null,
   "id": "07a23dc0",
   "metadata": {},
   "outputs": [],
   "source": [
    "arr22=arr20.transpose()"
   ]
  },
  {
   "cell_type": "code",
   "execution_count": null,
   "id": "31a927f6",
   "metadata": {},
   "outputs": [],
   "source": [
    "np.vstack((arr21,arr22))"
   ]
  },
  {
   "cell_type": "code",
   "execution_count": null,
   "id": "ab2c489f",
   "metadata": {},
   "outputs": [],
   "source": [
    "np.hstack((a,b))"
   ]
  },
  {
   "cell_type": "code",
   "execution_count": null,
   "id": "fc98c806",
   "metadata": {},
   "outputs": [],
   "source": [
    "#splitting\n",
    "np.hsplit(c,3)"
   ]
  },
  {
   "cell_type": "code",
   "execution_count": null,
   "id": "279e5148",
   "metadata": {},
   "outputs": [],
   "source": [
    "np.vsplit(arr21,3)"
   ]
  },
  {
   "cell_type": "markdown",
   "id": "c29dde5d",
   "metadata": {},
   "source": [
    "# Fancy indexing"
   ]
  },
  {
   "cell_type": "code",
   "execution_count": null,
   "id": "59151b73",
   "metadata": {},
   "outputs": [],
   "source": [
    "import numpy as np\n",
    "arr=np.arange(24).reshape(6,4)"
   ]
  },
  {
   "cell_type": "code",
   "execution_count": null,
   "id": "ee932f50",
   "metadata": {},
   "outputs": [],
   "source": [
    "arr"
   ]
  },
  {
   "cell_type": "code",
   "execution_count": null,
   "id": "68a6357d",
   "metadata": {},
   "outputs": [],
   "source": [
    "arr[[1,3,5]]"
   ]
  },
  {
   "cell_type": "code",
   "execution_count": null,
   "id": "ed22d5bd",
   "metadata": {},
   "outputs": [],
   "source": [
    "#Indexing with boolean arrays or filtering"
   ]
  },
  {
   "cell_type": "code",
   "execution_count": null,
   "id": "7e1b4bfa",
   "metadata": {},
   "outputs": [],
   "source": [
    "a=np.random.randint(low=1,high=100,size=20).reshape(4,5)"
   ]
  },
  {
   "cell_type": "code",
   "execution_count": null,
   "id": "8ea2f730",
   "metadata": {},
   "outputs": [],
   "source": [
    "a"
   ]
  },
  {
   "cell_type": "code",
   "execution_count": null,
   "id": "b14dc71d",
   "metadata": {},
   "outputs": [],
   "source": [
    "a[0]"
   ]
  },
  {
   "cell_type": "code",
   "execution_count": null,
   "id": "aa3e69f5",
   "metadata": {},
   "outputs": [],
   "source": [
    "a[0][2]"
   ]
  },
  {
   "cell_type": "code",
   "execution_count": null,
   "id": "d2ceda38",
   "metadata": {},
   "outputs": [],
   "source": [
    "a>50"
   ]
  },
  {
   "cell_type": "code",
   "execution_count": null,
   "id": "664531ac",
   "metadata": {},
   "outputs": [],
   "source": [
    "a[a>50]"
   ]
  },
  {
   "cell_type": "code",
   "execution_count": null,
   "id": "894ae6fe",
   "metadata": {},
   "outputs": [],
   "source": [
    "a[(a>50) & (a%2!=0)]    #we can use also filtering"
   ]
  },
  {
   "cell_type": "markdown",
   "id": "9bf18812",
   "metadata": {},
   "source": [
    "# Plotting graph using array"
   ]
  },
  {
   "cell_type": "code",
   "execution_count": null,
   "id": "1217a00f",
   "metadata": {},
   "outputs": [],
   "source": [
    "x=np.linspace(-40,40,100) #space betn every number is linearly spaced"
   ]
  },
  {
   "cell_type": "code",
   "execution_count": null,
   "id": "a340a037",
   "metadata": {},
   "outputs": [],
   "source": [
    "x  "
   ]
  },
  {
   "cell_type": "code",
   "execution_count": null,
   "id": "5dd4ab5c",
   "metadata": {},
   "outputs": [],
   "source": [
    "x.size"
   ]
  },
  {
   "cell_type": "code",
   "execution_count": null,
   "id": "4a7a8ab5",
   "metadata": {},
   "outputs": [],
   "source": [
    "y=np.sin(x)"
   ]
  },
  {
   "cell_type": "code",
   "execution_count": null,
   "id": "ba0f6a10",
   "metadata": {},
   "outputs": [],
   "source": [
    "y"
   ]
  },
  {
   "cell_type": "code",
   "execution_count": null,
   "id": "5781c53f",
   "metadata": {},
   "outputs": [],
   "source": [
    "y.size"
   ]
  },
  {
   "cell_type": "code",
   "execution_count": null,
   "id": "08fd6072",
   "metadata": {},
   "outputs": [],
   "source": [
    "import matplotlib.pyplot as plt\n",
    "%matplotlib inline"
   ]
  },
  {
   "cell_type": "code",
   "execution_count": null,
   "id": "a53fd89c",
   "metadata": {},
   "outputs": [],
   "source": [
    "plt.plot(x,y)  #lineplot"
   ]
  },
  {
   "cell_type": "code",
   "execution_count": null,
   "id": "7a8bf501",
   "metadata": {},
   "outputs": [],
   "source": [
    "y=x*x+2*x+6"
   ]
  },
  {
   "cell_type": "code",
   "execution_count": null,
   "id": "191b6b6e",
   "metadata": {},
   "outputs": [],
   "source": [
    "plt.plot(x,y)  #this is parabola"
   ]
  },
  {
   "cell_type": "markdown",
   "id": "92af90d6",
   "metadata": {},
   "source": [
    "# BROADCASTING"
   ]
  },
  {
   "cell_type": "code",
   "execution_count": null,
   "id": "1b7e998c",
   "metadata": {},
   "outputs": [],
   "source": [
    "\"\"\"\n",
    "Ability of numpy to treat arrays of different shapes during arithmetic operations.\n",
    "it usually done on corresponding elements.\n",
    "\n",
    "If two arrays are exactly of same shape,then these opeartions are smoothly performed.\n",
    "If the dimension of two arrays are dissimilar,element-to-element operations are not possible,\n",
    "\n",
    "However,operations on array of nonsimilar shapes is still possible on NUMPY.because of broadcast capability.\n",
    "\n",
    "the smaller array is the broadcast to the size of the longer array so that have compatible shapes.\n",
    "\n",
    "\n",
    "\"\"\""
   ]
  },
  {
   "cell_type": "code",
   "execution_count": null,
   "id": "71fd92be",
   "metadata": {},
   "outputs": [],
   "source": [
    "arr=np.arange(8).reshape(2,4)\n",
    "arr"
   ]
  },
  {
   "cell_type": "code",
   "execution_count": null,
   "id": "a7daa4ee",
   "metadata": {},
   "outputs": [],
   "source": [
    "arr1=np.arange(8,16).reshape(2,4)\n",
    "arr1"
   ]
  },
  {
   "cell_type": "code",
   "execution_count": null,
   "id": "c07d249f",
   "metadata": {},
   "outputs": [],
   "source": [
    "arr+arr1"
   ]
  },
  {
   "cell_type": "code",
   "execution_count": null,
   "id": "9836bdfb",
   "metadata": {},
   "outputs": [],
   "source": [
    "arr1-arr"
   ]
  },
  {
   "cell_type": "code",
   "execution_count": null,
   "id": "5a2e8a99",
   "metadata": {},
   "outputs": [],
   "source": [
    "a=np.arange(9).reshape(3,3)\n",
    "a1=np.arange(3).reshape(1,3)"
   ]
  },
  {
   "cell_type": "code",
   "execution_count": null,
   "id": "4f2afa74",
   "metadata": {},
   "outputs": [],
   "source": [
    "print(a,a1)"
   ]
  },
  {
   "cell_type": "code",
   "execution_count": null,
   "id": "57613b28",
   "metadata": {},
   "outputs": [],
   "source": [
    "a+a1 #shape are not same still we get addition i.e Broadcasting"
   ]
  },
  {
   "cell_type": "markdown",
   "id": "40b1103b",
   "metadata": {},
   "source": [
    "# Rules for Broadcasting"
   ]
  },
  {
   "cell_type": "markdown",
   "id": "914147da",
   "metadata": {},
   "source": [
    "## 1)Rule no.1::if x=m and y=n then operation will take place"
   ]
  },
  {
   "cell_type": "code",
   "execution_count": null,
   "id": "95b72f92",
   "metadata": {},
   "outputs": [],
   "source": [
    "arr"
   ]
  },
  {
   "cell_type": "code",
   "execution_count": null,
   "id": "a4442ddd",
   "metadata": {},
   "outputs": [],
   "source": [
    "arr1"
   ]
  },
  {
   "cell_type": "code",
   "execution_count": null,
   "id": "35c5549f",
   "metadata": {},
   "outputs": [],
   "source": [
    "arr1+arr"
   ]
  },
  {
   "cell_type": "markdown",
   "id": "c7d5f69c",
   "metadata": {},
   "source": [
    "## Rule 2::if x=1 and y=n then also operation will takes place"
   ]
  },
  {
   "cell_type": "code",
   "execution_count": null,
   "id": "107a2608",
   "metadata": {},
   "outputs": [],
   "source": [
    "a"
   ]
  },
  {
   "cell_type": "code",
   "execution_count": null,
   "id": "21f7707a",
   "metadata": {},
   "outputs": [],
   "source": [
    "a1"
   ]
  },
  {
   "cell_type": "code",
   "execution_count": null,
   "id": "5b1ea81b",
   "metadata": {},
   "outputs": [],
   "source": [
    "print(a,a1)"
   ]
  },
  {
   "cell_type": "code",
   "execution_count": null,
   "id": "762c76fa",
   "metadata": {},
   "outputs": [],
   "source": [
    "a+a1    #broadcasting"
   ]
  },
  {
   "cell_type": "markdown",
   "id": "95d6c1ca",
   "metadata": {},
   "source": [
    "## rule no 3::If x=1 and x=m then also operation will takes place, evenif they r not in same dimension"
   ]
  },
  {
   "cell_type": "code",
   "execution_count": null,
   "id": "4da2d511",
   "metadata": {},
   "outputs": [],
   "source": [
    "a3=np.arange(4).reshape(1,4)\n",
    "a4=np.arange(12).reshape(3,4)"
   ]
  },
  {
   "cell_type": "code",
   "execution_count": null,
   "id": "a0ccb37d",
   "metadata": {},
   "outputs": [],
   "source": [
    "a3"
   ]
  },
  {
   "cell_type": "code",
   "execution_count": null,
   "id": "d41dcee6",
   "metadata": {},
   "outputs": [],
   "source": [
    "a4"
   ]
  },
  {
   "cell_type": "code",
   "execution_count": null,
   "id": "1c440479",
   "metadata": {},
   "outputs": [],
   "source": [
    "a3+a4"
   ]
  },
  {
   "cell_type": "markdown",
   "id": "0ccf1837",
   "metadata": {},
   "source": [
    "## Rule no 4::if x=1 and y!=n then operation also will not take place. "
   ]
  },
  {
   "cell_type": "code",
   "execution_count": null,
   "id": "0a6054f8",
   "metadata": {},
   "outputs": [],
   "source": [
    "a=np.arange(3).reshape(1,3)\n",
    "b=np.arange(20).reshape(4,5)"
   ]
  },
  {
   "cell_type": "code",
   "execution_count": null,
   "id": "afc7f9f7",
   "metadata": {},
   "outputs": [],
   "source": [
    "a+b"
   ]
  },
  {
   "cell_type": "markdown",
   "id": "d84773f7",
   "metadata": {},
   "source": [
    "## if rule no 5::x=1 and n=1 then y==m also operation will also takes place"
   ]
  },
  {
   "cell_type": "code",
   "execution_count": null,
   "id": "2437d269",
   "metadata": {},
   "outputs": [],
   "source": [
    "c=np.arange(3).reshape(1,3)\n",
    "d=np.arange(3).reshape(3,1)\n",
    "c"
   ]
  },
  {
   "cell_type": "code",
   "execution_count": null,
   "id": "5ee1fae2",
   "metadata": {},
   "outputs": [],
   "source": [
    "d"
   ]
  },
  {
   "cell_type": "code",
   "execution_count": null,
   "id": "6dab0608",
   "metadata": {},
   "outputs": [],
   "source": [
    "c+d"
   ]
  },
  {
   "cell_type": "markdown",
   "id": "4c0e7e0a",
   "metadata": {},
   "source": [
    "## 6_if x=1 y=1 then no matter what operation will takes place"
   ]
  },
  {
   "cell_type": "code",
   "execution_count": null,
   "id": "3bd72697",
   "metadata": {},
   "outputs": [],
   "source": [
    "c=np.arange(3).reshape(1,3)\n",
    "d=np.arange(1).reshape(1,1)\n",
    "c"
   ]
  },
  {
   "cell_type": "code",
   "execution_count": null,
   "id": "3fa82902",
   "metadata": {},
   "outputs": [],
   "source": []
  },
  {
   "cell_type": "markdown",
   "id": "e6161a33",
   "metadata": {},
   "source": [
    "## 7)If they r different dimension"
   ]
  },
  {
   "cell_type": "code",
   "execution_count": null,
   "id": "561d637e",
   "metadata": {},
   "outputs": [],
   "source": [
    "c=np.arange(3).reshape(1,3)\n",
    "d=np.arange(1).reshape(1,1)\n",
    "print(c,d)"
   ]
  },
  {
   "cell_type": "markdown",
   "id": "7ea156da",
   "metadata": {},
   "source": [
    "# Some important Functions"
   ]
  },
  {
   "cell_type": "code",
   "execution_count": null,
   "id": "a11feb5c",
   "metadata": {},
   "outputs": [],
   "source": [
    "\"\"\"\n",
    "random.random()\n",
    "random.seed()\n",
    "random.uniform()\n",
    "random.reshape()\n",
    "random.randint()\n",
    "max()\n",
    "min()\n",
    "argmax()\n",
    "argmin()\n",
    "where(condition)\n",
    "sort()\n",
    "percentile()\n",
    "      \n",
    "\"\"\""
   ]
  },
  {
   "cell_type": "code",
   "execution_count": null,
   "id": "938c5b98",
   "metadata": {},
   "outputs": [],
   "source": [
    "import numpy as np"
   ]
  },
  {
   "cell_type": "code",
   "execution_count": null,
   "id": "9c1a1acc",
   "metadata": {},
   "outputs": [],
   "source": [
    "np.random.random()  #can generate a random value every time you run"
   ]
  },
  {
   "cell_type": "code",
   "execution_count": null,
   "id": "e01d7087",
   "metadata": {},
   "outputs": [],
   "source": [
    "np.random.seed(1)\n",
    "np.random.random()  #seed()"
   ]
  },
  {
   "cell_type": "code",
   "execution_count": null,
   "id": "2cea305d",
   "metadata": {},
   "outputs": [],
   "source": [
    "np.random.uniform(1,10)  #uniform()"
   ]
  },
  {
   "cell_type": "code",
   "execution_count": null,
   "id": "bc164952",
   "metadata": {},
   "outputs": [],
   "source": [
    "np.random.uniform(1,100,10).reshape(2,5)  #reshape()"
   ]
  },
  {
   "cell_type": "code",
   "execution_count": null,
   "id": "85e50016",
   "metadata": {},
   "outputs": [],
   "source": [
    "b=np.random.randint(1,100,15)  #start,end,no_of_values"
   ]
  },
  {
   "cell_type": "code",
   "execution_count": null,
   "id": "309e3192",
   "metadata": {},
   "outputs": [],
   "source": []
  },
  {
   "cell_type": "code",
   "execution_count": null,
   "id": "21336229",
   "metadata": {},
   "outputs": [],
   "source": [
    "a=np.random.randint(1,100,15).reshape(3,5)  #randint()"
   ]
  },
  {
   "cell_type": "code",
   "execution_count": null,
   "id": "69b5ed4e",
   "metadata": {},
   "outputs": [],
   "source": [
    "np.max(a)   #max()"
   ]
  },
  {
   "cell_type": "code",
   "execution_count": null,
   "id": "06f9a7c2",
   "metadata": {},
   "outputs": [],
   "source": [
    "np.min(a)  #min()"
   ]
  },
  {
   "cell_type": "code",
   "execution_count": null,
   "id": "42cc75b8",
   "metadata": {},
   "outputs": [],
   "source": [
    "np.argmax(a)    #argmax()"
   ]
  },
  {
   "cell_type": "code",
   "execution_count": null,
   "id": "ba0e43a7",
   "metadata": {},
   "outputs": [],
   "source": [
    "np.argmin(a)  # argmin()"
   ]
  },
  {
   "cell_type": "code",
   "execution_count": null,
   "id": "c7ffd316",
   "metadata": {},
   "outputs": [],
   "source": [
    "a[a%2==1]=-1"
   ]
  },
  {
   "cell_type": "code",
   "execution_count": null,
   "id": "952165a7",
   "metadata": {},
   "outputs": [],
   "source": [
    "a"
   ]
  },
  {
   "cell_type": "code",
   "execution_count": null,
   "id": "06877031",
   "metadata": {},
   "outputs": [],
   "source": [
    "np.where(b%2==1,-1,b)      #where(condition)"
   ]
  },
  {
   "cell_type": "code",
   "execution_count": null,
   "id": "5e9133f6",
   "metadata": {},
   "outputs": [],
   "source": [
    "a"
   ]
  },
  {
   "cell_type": "code",
   "execution_count": null,
   "id": "3aea805d",
   "metadata": {},
   "outputs": [],
   "source": [
    "np.sort(a)  #sort()"
   ]
  },
  {
   "cell_type": "code",
   "execution_count": null,
   "id": "9df86d48",
   "metadata": {},
   "outputs": [],
   "source": [
    "np.percentile(a,50)  #percentile()"
   ]
  },
  {
   "cell_type": "code",
   "execution_count": null,
   "id": "7d057fdd",
   "metadata": {},
   "outputs": [],
   "source": [
    "np.percentile(a,99.5)"
   ]
  },
  {
   "cell_type": "code",
   "execution_count": null,
   "id": "f160a722",
   "metadata": {},
   "outputs": [],
   "source": []
  }
 ],
 "metadata": {
  "kernelspec": {
   "display_name": "Python 3",
   "language": "python",
   "name": "python3"
  },
  "language_info": {
   "codemirror_mode": {
    "name": "ipython",
    "version": 3
   },
   "file_extension": ".py",
   "mimetype": "text/x-python",
   "name": "python",
   "nbconvert_exporter": "python",
   "pygments_lexer": "ipython3",
   "version": "3.8.8"
  }
 },
 "nbformat": 4,
 "nbformat_minor": 5
}
