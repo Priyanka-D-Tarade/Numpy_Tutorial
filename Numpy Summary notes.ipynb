{
 "cells": [
  {
   "cell_type": "code",
   "execution_count": null,
   "id": "e342cfa4",
   "metadata": {},
   "outputs": [],
   "source": [
    "#How to create Numpy array"
   ]
  },
  {
   "cell_type": "code",
   "execution_count": null,
   "id": "515a598b",
   "metadata": {},
   "outputs": [],
   "source": [
    "\"\"\"low level library written in C(and FORTRAN) \n",
    "used for high level mathematical operations.\n",
    "\"\"\"\n"
   ]
  },
  {
   "cell_type": "code",
   "execution_count": null,
   "id": "5791d56e",
   "metadata": {},
   "outputs": [],
   "source": [
    "#APPLICATIONS"
   ]
  },
  {
   "cell_type": "code",
   "execution_count": null,
   "id": "1f2becb6",
   "metadata": {},
   "outputs": [],
   "source": [
    "\"\"\"\n",
    "A Powerful N-dimential array object\n",
    "used for sophisticated (broadcasting)functions\n",
    "tools for integraing C/C++ and Fortran code\n",
    "Useful linear algebra,fourier transform and random number capabilities\n",
    "\"\"\""
   ]
  },
  {
   "cell_type": "code",
   "execution_count": null,
   "id": "9ddf1304",
   "metadata": {},
   "outputs": [],
   "source": [
    "#HOW TO CREATE"
   ]
  },
  {
   "cell_type": "code",
   "execution_count": null,
   "id": "942f859c",
   "metadata": {},
   "outputs": [],
   "source": [
    "#6 ways\n",
    "\"\"\"\n",
    "Using np.array() #1D or 2D\n",
    "Using np.zeroes/ones/empty/random()\n",
    "Using np.arange(10-(0-9))\n",
    "Using np.linspace(start,stop,how many no. u want)\n",
    "Using copy(array u want to copy)\n",
    "Using Identity(4)\n",
    "\n",
    "\"\"\""
   ]
  },
  {
   "cell_type": "code",
   "execution_count": null,
   "id": "0fd6340a",
   "metadata": {},
   "outputs": [],
   "source": [
    "#ATTRIBUTES"
   ]
  },
  {
   "cell_type": "code",
   "execution_count": null,
   "id": "d988ef3a",
   "metadata": {},
   "outputs": [],
   "source": [
    "\"\"\"\n",
    "attributes=\n",
    "           shape==ans==>(no. of rows,no. of columns,no. of dimensions)\n",
    "           ndim==ans==>1 or 2 or 3\n",
    "           size==> (no. of elements in array)\n",
    "           itemsize=(int=4,float=8,str=4)\n",
    "           dtype(type of data=int32,float64)\n",
    "           astype(\"change type of data\")\n",
    "In OOPS,it is treated as data member in class.\n",
    "           \"\"\""
   ]
  },
  {
   "cell_type": "code",
   "execution_count": null,
   "id": "f7c7db0b",
   "metadata": {},
   "outputs": [],
   "source": []
  },
  {
   "cell_type": "code",
   "execution_count": null,
   "id": "5e5d0cfa",
   "metadata": {},
   "outputs": [],
   "source": [
    "#IMPORTANT FUNCTIONS"
   ]
  },
  {
   "cell_type": "code",
   "execution_count": null,
   "id": "c2362747",
   "metadata": {},
   "outputs": [],
   "source": [
    "\"\"\"\n",
    "random.random()===\n",
    "      .seed()====--\n",
    "      .uniform()====\n",
    "      .reshape()===change the(row, column) but condition row*column==previus dimensions must be match\n",
    "      .randint()====\n",
    "max()=====largest element in array\n",
    "min()====smallest element in array\n",
    "argmax()==========\n",
    "argmin()==========\n",
    "where(condition)==\n",
    "sort()   ==========sort the matrix default ascending\n",
    "percentile()======\n",
    "      \n",
    "\"\"\""
   ]
  },
  {
   "cell_type": "code",
   "execution_count": null,
   "id": "b1777aa2",
   "metadata": {},
   "outputs": [],
   "source": []
  },
  {
   "cell_type": "code",
   "execution_count": null,
   "id": "33aaf793",
   "metadata": {},
   "outputs": [],
   "source": []
  },
  {
   "cell_type": "code",
   "execution_count": null,
   "id": "4d025a27",
   "metadata": {},
   "outputs": [],
   "source": []
  },
  {
   "cell_type": "code",
   "execution_count": null,
   "id": "6b49cff4",
   "metadata": {},
   "outputs": [],
   "source": []
  },
  {
   "cell_type": "code",
   "execution_count": null,
   "id": "62bdf808",
   "metadata": {},
   "outputs": [],
   "source": []
  }
 ],
 "metadata": {
  "kernelspec": {
   "display_name": "Python 3",
   "language": "python",
   "name": "python3"
  },
  "language_info": {
   "codemirror_mode": {
    "name": "ipython",
    "version": 3
   },
   "file_extension": ".py",
   "mimetype": "text/x-python",
   "name": "python",
   "nbconvert_exporter": "python",
   "pygments_lexer": "ipython3",
   "version": "3.8.8"
  }
 },
 "nbformat": 4,
 "nbformat_minor": 5
}
